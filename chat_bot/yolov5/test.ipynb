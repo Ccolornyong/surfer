{
 "cells": [
  {
   "cell_type": "code",
   "execution_count": 1,
   "metadata": {},
   "outputs": [],
   "source": [
    "import cv2"
   ]
  },
  {
   "cell_type": "code",
   "execution_count": null,
   "metadata": {},
   "outputs": [],
   "source": [
    "! pip install fastapi\n",
    "! pip install uvicorn"
   ]
  },
  {
   "cell_type": "code",
   "execution_count": 3,
   "metadata": {},
   "outputs": [
    {
     "name": "stdout",
     "output_type": "stream",
     "text": [
      "Collecting transformers==4.28.0\n",
      "  Downloading transformers-4.28.0-py3-none-any.whl (7.0 MB)\n",
      "     ---------------------------------------- 7.0/7.0 MB 22.2 MB/s eta 0:00:00\n",
      "Requirement already satisfied: packaging>=20.0 in c:\\users\\ccolornyong\\anaconda3\\lib\\site-packages (from transformers==4.28.0) (23.2)\n",
      "Requirement already satisfied: tokenizers!=0.11.3,<0.14,>=0.11.1 in c:\\users\\ccolornyong\\anaconda3\\lib\\site-packages (from transformers==4.28.0) (0.11.4)\n",
      "Requirement already satisfied: filelock in c:\\users\\ccolornyong\\anaconda3\\lib\\site-packages (from transformers==4.28.0) (3.9.0)\n",
      "Requirement already satisfied: requests in c:\\users\\ccolornyong\\anaconda3\\lib\\site-packages (from transformers==4.28.0) (2.31.0)\n",
      "Requirement already satisfied: numpy>=1.17 in c:\\users\\ccolornyong\\anaconda3\\lib\\site-packages (from transformers==4.28.0) (1.23.5)\n",
      "Requirement already satisfied: regex!=2019.12.17 in c:\\users\\ccolornyong\\anaconda3\\lib\\site-packages (from transformers==4.28.0) (2022.7.9)\n",
      "Requirement already satisfied: huggingface-hub<1.0,>=0.11.0 in c:\\users\\ccolornyong\\anaconda3\\lib\\site-packages (from transformers==4.28.0) (0.23.0)\n",
      "Requirement already satisfied: tqdm>=4.27 in c:\\users\\ccolornyong\\anaconda3\\lib\\site-packages (from transformers==4.28.0) (4.64.1)\n",
      "Requirement already satisfied: pyyaml>=5.1 in c:\\users\\ccolornyong\\anaconda3\\lib\\site-packages (from transformers==4.28.0) (6.0)\n",
      "Requirement already satisfied: typing-extensions>=3.7.4.3 in c:\\users\\ccolornyong\\anaconda3\\lib\\site-packages (from huggingface-hub<1.0,>=0.11.0->transformers==4.28.0) (4.11.0)\n",
      "Requirement already satisfied: fsspec>=2023.5.0 in c:\\users\\ccolornyong\\anaconda3\\lib\\site-packages (from huggingface-hub<1.0,>=0.11.0->transformers==4.28.0) (2024.3.1)\n",
      "Requirement already satisfied: colorama in c:\\users\\ccolornyong\\anaconda3\\lib\\site-packages (from tqdm>=4.27->transformers==4.28.0) (0.4.6)\n",
      "Requirement already satisfied: idna<4,>=2.5 in c:\\users\\ccolornyong\\anaconda3\\lib\\site-packages (from requests->transformers==4.28.0) (3.4)\n",
      "Requirement already satisfied: urllib3<3,>=1.21.1 in c:\\users\\ccolornyong\\anaconda3\\lib\\site-packages (from requests->transformers==4.28.0) (1.26.18)\n",
      "Requirement already satisfied: certifi>=2017.4.17 in c:\\users\\ccolornyong\\anaconda3\\lib\\site-packages (from requests->transformers==4.28.0) (2024.7.4)\n",
      "Requirement already satisfied: charset-normalizer<4,>=2 in c:\\users\\ccolornyong\\anaconda3\\lib\\site-packages (from requests->transformers==4.28.0) (3.3.2)\n",
      "Installing collected packages: transformers\n",
      "  Attempting uninstall: transformers\n",
      "    Found existing installation: transformers 4.24.0\n",
      "    Uninstalling transformers-4.24.0:\n",
      "      Successfully uninstalled transformers-4.24.0\n",
      "Successfully installed transformers-4.28.0\n"
     ]
    }
   ],
   "source": [
    "! pip install transformers==4.28.0"
   ]
  }
 ],
 "metadata": {
  "kernelspec": {
   "display_name": "base",
   "language": "python",
   "name": "python3"
  },
  "language_info": {
   "codemirror_mode": {
    "name": "ipython",
    "version": 3
   },
   "file_extension": ".py",
   "mimetype": "text/x-python",
   "name": "python",
   "nbconvert_exporter": "python",
   "pygments_lexer": "ipython3",
   "version": "3.10.9"
  }
 },
 "nbformat": 4,
 "nbformat_minor": 2
}
